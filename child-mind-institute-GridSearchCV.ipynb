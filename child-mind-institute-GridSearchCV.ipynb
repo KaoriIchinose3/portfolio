{
 "cells": [
  {
   "cell_type": "code",
   "execution_count": 1,
   "id": "28510444",
   "metadata": {
    "execution": {
     "iopub.execute_input": "2024-11-24T07:42:04.265261Z",
     "iopub.status.busy": "2024-11-24T07:42:04.264906Z",
     "iopub.status.idle": "2024-11-24T07:42:05.599013Z",
     "shell.execute_reply": "2024-11-24T07:42:05.598366Z"
    },
    "papermill": {
     "duration": 1.342358,
     "end_time": "2024-11-24T07:42:05.600992",
     "exception": false,
     "start_time": "2024-11-24T07:42:04.258634",
     "status": "completed"
    },
    "tags": []
   },
   "outputs": [],
   "source": [
    "import numpy as np\n",
    "import pandas as pd"
   ]
  },
  {
   "cell_type": "code",
   "execution_count": 2,
   "id": "2c90d23d",
   "metadata": {
    "execution": {
     "iopub.execute_input": "2024-11-24T07:42:05.611206Z",
     "iopub.status.busy": "2024-11-24T07:42:05.610864Z",
     "iopub.status.idle": "2024-11-24T07:42:05.678747Z",
     "shell.execute_reply": "2024-11-24T07:42:05.678062Z"
    },
    "papermill": {
     "duration": 0.074932,
     "end_time": "2024-11-24T07:42:05.680664",
     "exception": false,
     "start_time": "2024-11-24T07:42:05.605732",
     "status": "completed"
    },
    "tags": []
   },
   "outputs": [],
   "source": [
    "train = pd.read_csv('/kaggle/input/child-mind-institute-problematic-internet-use/train.csv')"
   ]
  },
  {
   "cell_type": "code",
   "execution_count": 3,
   "id": "9c6c2338",
   "metadata": {
    "execution": {
     "iopub.execute_input": "2024-11-24T07:42:05.691220Z",
     "iopub.status.busy": "2024-11-24T07:42:05.690524Z",
     "iopub.status.idle": "2024-11-24T07:42:05.729278Z",
     "shell.execute_reply": "2024-11-24T07:42:05.728489Z"
    },
    "papermill": {
     "duration": 0.045454,
     "end_time": "2024-11-24T07:42:05.730889",
     "exception": false,
     "start_time": "2024-11-24T07:42:05.685435",
     "status": "completed"
    },
    "tags": []
   },
   "outputs": [],
   "source": [
    "# object型の列名を取得するリストを作成\n",
    "object_columns = []\n",
    "\n",
    "# for文を使ってobject型の列を取得\n",
    "for col in train.columns:\n",
    "    if train[col].dtype == 'object':\n",
    "        object_columns.append(col)\n",
    "\n",
    "#取得した列にダミー変数を入れる\n",
    "del object_columns[0]#先頭の'id'列を削除\n",
    "cat_col = object_columns\n",
    "X=pd.get_dummies(train,columns=cat_col)"
   ]
  },
  {
   "cell_type": "code",
   "execution_count": 4,
   "id": "53373116",
   "metadata": {
    "execution": {
     "iopub.execute_input": "2024-11-24T07:42:05.741500Z",
     "iopub.status.busy": "2024-11-24T07:42:05.741043Z",
     "iopub.status.idle": "2024-11-24T07:42:05.746197Z",
     "shell.execute_reply": "2024-11-24T07:42:05.745397Z"
    },
    "papermill": {
     "duration": 0.011741,
     "end_time": "2024-11-24T07:42:05.747900",
     "exception": false,
     "start_time": "2024-11-24T07:42:05.736159",
     "status": "completed"
    },
    "tags": []
   },
   "outputs": [],
   "source": [
    "X = X.drop(['id'],axis=1)"
   ]
  },
  {
   "cell_type": "code",
   "execution_count": 5,
   "id": "d7f83718",
   "metadata": {
    "execution": {
     "iopub.execute_input": "2024-11-24T07:42:05.757521Z",
     "iopub.status.busy": "2024-11-24T07:42:05.756917Z",
     "iopub.status.idle": "2024-11-24T07:42:15.968886Z",
     "shell.execute_reply": "2024-11-24T07:42:15.968125Z"
    },
    "papermill": {
     "duration": 10.218811,
     "end_time": "2024-11-24T07:42:15.970955",
     "exception": false,
     "start_time": "2024-11-24T07:42:05.752144",
     "status": "completed"
    },
    "tags": []
   },
   "outputs": [],
   "source": [
    "#K近傍法を実施\n",
    "from sklearn.impute import KNNImputer\n",
    "imputer = KNNImputer(n_neighbors=5)\n",
    "imputed_data = imputer.fit_transform(X)"
   ]
  },
  {
   "cell_type": "code",
   "execution_count": 6,
   "id": "b1f68440",
   "metadata": {
    "execution": {
     "iopub.execute_input": "2024-11-24T07:42:15.981640Z",
     "iopub.status.busy": "2024-11-24T07:42:15.980864Z",
     "iopub.status.idle": "2024-11-24T07:42:15.985072Z",
     "shell.execute_reply": "2024-11-24T07:42:15.984395Z"
    },
    "papermill": {
     "duration": 0.011206,
     "end_time": "2024-11-24T07:42:15.986822",
     "exception": false,
     "start_time": "2024-11-24T07:42:15.975616",
     "status": "completed"
    },
    "tags": []
   },
   "outputs": [],
   "source": [
    "columns = X.columns\n",
    "index = X.index\n",
    "\n",
    "imputed_df = pd.DataFrame(imputed_data, columns=columns, index=index)"
   ]
  },
  {
   "cell_type": "code",
   "execution_count": 7,
   "id": "20f45397",
   "metadata": {
    "execution": {
     "iopub.execute_input": "2024-11-24T07:42:15.996565Z",
     "iopub.status.busy": "2024-11-24T07:42:15.995997Z",
     "iopub.status.idle": "2024-11-24T07:42:16.010009Z",
     "shell.execute_reply": "2024-11-24T07:42:16.009200Z"
    },
    "papermill": {
     "duration": 0.020462,
     "end_time": "2024-11-24T07:42:16.011574",
     "exception": false,
     "start_time": "2024-11-24T07:42:15.991112",
     "status": "completed"
    },
    "tags": []
   },
   "outputs": [],
   "source": [
    "test = pd.read_csv('/kaggle/input/child-mind-institute-problematic-internet-use/test.csv')"
   ]
  },
  {
   "cell_type": "code",
   "execution_count": 8,
   "id": "067a6b47",
   "metadata": {
    "execution": {
     "iopub.execute_input": "2024-11-24T07:42:16.020949Z",
     "iopub.status.busy": "2024-11-24T07:42:16.020710Z",
     "iopub.status.idle": "2024-11-24T07:42:16.069962Z",
     "shell.execute_reply": "2024-11-24T07:42:16.069067Z"
    },
    "papermill": {
     "duration": 0.056065,
     "end_time": "2024-11-24T07:42:16.071926",
     "exception": false,
     "start_time": "2024-11-24T07:42:16.015861",
     "status": "completed"
    },
    "tags": []
   },
   "outputs": [],
   "source": [
    "# 共通の列を抽出\n",
    "common_columns = train.columns.intersection(test.columns)\n",
    "\n",
    "# 訓練データとテストデータの共通列だけを抽出\n",
    "train_common = train[common_columns]\n",
    "test_common = test[common_columns]\n",
    "\n",
    "\n",
    "\n",
    "# 訓練データ（およびテストデータ）のobject型の列名を取得するリストを作成\n",
    "object_columns = []\n",
    "\n",
    "# for文を使ってobject型の列を取得\n",
    "for col in train_common.columns:\n",
    "    if train_common[col].dtype == 'object':\n",
    "        object_columns.append(col)\n",
    "\n",
    "\n",
    "\n",
    "#訓練データとテストデータを合わせてダミー変数を入れる\n",
    "data_combined = pd.concat([train_common, test_common], axis=0)\n",
    "if object_columns:  # 空でない場合のみダミー変数化\n",
    "    data_combined = pd.get_dummies(data_combined, columns=object_columns)\n",
    "train_data = data_combined.iloc[:len(train_common), :]\n",
    "test_data = data_combined.iloc[len(train_common):, :]\n"
   ]
  },
  {
   "cell_type": "code",
   "execution_count": 9,
   "id": "bce5c433",
   "metadata": {
    "execution": {
     "iopub.execute_input": "2024-11-24T07:42:16.081986Z",
     "iopub.status.busy": "2024-11-24T07:42:16.081728Z",
     "iopub.status.idle": "2024-11-24T07:42:16.090299Z",
     "shell.execute_reply": "2024-11-24T07:42:16.089745Z"
    },
    "papermill": {
     "duration": 0.015282,
     "end_time": "2024-11-24T07:42:16.092027",
     "exception": false,
     "start_time": "2024-11-24T07:42:16.076745",
     "status": "completed"
    },
    "tags": []
   },
   "outputs": [],
   "source": [
    "#データ中のNaNを0に変換\n",
    "train_data = train_data.fillna(0)\n",
    "test_data = test_data.fillna(0)"
   ]
  },
  {
   "cell_type": "code",
   "execution_count": 10,
   "id": "8b85b20f",
   "metadata": {
    "execution": {
     "iopub.execute_input": "2024-11-24T07:42:16.102237Z",
     "iopub.status.busy": "2024-11-24T07:42:16.101993Z",
     "iopub.status.idle": "2024-11-24T07:42:16.106987Z",
     "shell.execute_reply": "2024-11-24T07:42:16.106305Z"
    },
    "papermill": {
     "duration": 0.011908,
     "end_time": "2024-11-24T07:42:16.108666",
     "exception": false,
     "start_time": "2024-11-24T07:42:16.096758",
     "status": "completed"
    },
    "tags": []
   },
   "outputs": [],
   "source": [
    "# 訓練データにsii列を追加\n",
    "train_data['sii'] = imputed_df['sii']"
   ]
  },
  {
   "cell_type": "code",
   "execution_count": 11,
   "id": "23d6ac73",
   "metadata": {
    "execution": {
     "iopub.execute_input": "2024-11-24T07:42:16.118898Z",
     "iopub.status.busy": "2024-11-24T07:42:16.118610Z",
     "iopub.status.idle": "2024-11-24T07:42:16.123101Z",
     "shell.execute_reply": "2024-11-24T07:42:16.122389Z"
    },
    "papermill": {
     "duration": 0.011593,
     "end_time": "2024-11-24T07:42:16.124768",
     "exception": false,
     "start_time": "2024-11-24T07:42:16.113175",
     "status": "completed"
    },
    "tags": []
   },
   "outputs": [],
   "source": [
    "train_data['sii'] = train_data['sii'].astype(int)"
   ]
  },
  {
   "cell_type": "code",
   "execution_count": 12,
   "id": "fa1707b0",
   "metadata": {
    "execution": {
     "iopub.execute_input": "2024-11-24T07:42:16.134292Z",
     "iopub.status.busy": "2024-11-24T07:42:16.134059Z",
     "iopub.status.idle": "2024-11-24T07:42:16.138054Z",
     "shell.execute_reply": "2024-11-24T07:42:16.137390Z"
    },
    "papermill": {
     "duration": 0.010483,
     "end_time": "2024-11-24T07:42:16.139647",
     "exception": false,
     "start_time": "2024-11-24T07:42:16.129164",
     "status": "completed"
    },
    "tags": []
   },
   "outputs": [],
   "source": [
    "X = train_data\n",
    "columns = X.columns\n",
    "index = X.index\n",
    "\n",
    "X = pd.DataFrame(X, columns=columns, index=index)"
   ]
  },
  {
   "cell_type": "code",
   "execution_count": 13,
   "id": "4f8329c9",
   "metadata": {
    "execution": {
     "iopub.execute_input": "2024-11-24T07:42:16.149036Z",
     "iopub.status.busy": "2024-11-24T07:42:16.148789Z",
     "iopub.status.idle": "2024-11-24T07:42:16.298999Z",
     "shell.execute_reply": "2024-11-24T07:42:16.298357Z"
    },
    "papermill": {
     "duration": 0.156992,
     "end_time": "2024-11-24T07:42:16.300911",
     "exception": false,
     "start_time": "2024-11-24T07:42:16.143919",
     "status": "completed"
    },
    "tags": []
   },
   "outputs": [],
   "source": [
    "import matplotlib.pyplot as plt\n",
    "from sklearn.ensemble import RandomForestClassifier\n",
    "from sklearn.ensemble import GradientBoostingClassifier\n",
    "from sklearn.preprocessing import StandardScaler\n",
    "from sklearn.model_selection import cross_val_score, train_test_split, GridSearchCV\n",
    "from sklearn.metrics import classification_report, confusion_matrix\n",
    "\n",
    "np.random.seed(42)"
   ]
  },
  {
   "cell_type": "code",
   "execution_count": 14,
   "id": "3783dd29",
   "metadata": {
    "execution": {
     "iopub.execute_input": "2024-11-24T07:42:16.310626Z",
     "iopub.status.busy": "2024-11-24T07:42:16.310379Z",
     "iopub.status.idle": "2024-11-24T07:42:16.804049Z",
     "shell.execute_reply": "2024-11-24T07:42:16.803379Z"
    },
    "papermill": {
     "duration": 0.500527,
     "end_time": "2024-11-24T07:42:16.805885",
     "exception": false,
     "start_time": "2024-11-24T07:42:16.305358",
     "status": "completed"
    },
    "tags": []
   },
   "outputs": [],
   "source": [
    "#NaNを0に置き換える\n",
    "X = np.nan_to_num(X, nan=0)"
   ]
  },
  {
   "cell_type": "code",
   "execution_count": 15,
   "id": "2ca602db",
   "metadata": {
    "execution": {
     "iopub.execute_input": "2024-11-24T07:42:16.815720Z",
     "iopub.status.busy": "2024-11-24T07:42:16.815229Z",
     "iopub.status.idle": "2024-11-24T07:42:16.838651Z",
     "shell.execute_reply": "2024-11-24T07:42:16.837701Z"
    },
    "papermill": {
     "duration": 0.029924,
     "end_time": "2024-11-24T07:42:16.840197",
     "exception": false,
     "start_time": "2024-11-24T07:42:16.810273",
     "status": "completed"
    },
    "tags": []
   },
   "outputs": [
    {
     "name": "stdout",
     "output_type": "stream",
     "text": [
      "0\n",
      "0\n"
     ]
    }
   ],
   "source": [
    "print(train_data.isnull().sum().sum())  # 0 でなければ欠損値が残っている\n",
    "print(test_data.isnull().sum().sum())  # 0 でなければ欠損値が残っている"
   ]
  },
  {
   "cell_type": "code",
   "execution_count": 16,
   "id": "1db51458",
   "metadata": {
    "execution": {
     "iopub.execute_input": "2024-11-24T07:42:16.849766Z",
     "iopub.status.busy": "2024-11-24T07:42:16.849535Z",
     "iopub.status.idle": "2024-11-24T07:42:20.349891Z",
     "shell.execute_reply": "2024-11-24T07:42:20.349130Z"
    },
    "papermill": {
     "duration": 3.507324,
     "end_time": "2024-11-24T07:42:20.351900",
     "exception": false,
     "start_time": "2024-11-24T07:42:16.844576",
     "status": "completed"
    },
    "tags": []
   },
   "outputs": [
    {
     "name": "stdout",
     "output_type": "stream",
     "text": [
      "訓練データ数 : 2970, テストデータ数 : 990\n"
     ]
    }
   ],
   "source": [
    "# 特徴データとラベルをX, yに格納\n",
    "Y_column = 'sii'\n",
    "y = train_data[Y_column].values\n",
    "X = train_data.drop(Y_column, axis=1).values\n",
    "X_train, X_test, y_train, y_test = train_test_split(X, y, test_size=0.25, random_state=15)\n",
    "print('訓練データ数 : {}, テストデータ数 : {}'.format(len(X_train), len(X_test)))\n",
    "\n",
    "transformer = StandardScaler()\n",
    "X_train = transformer.fit_transform(X_train)\n",
    "X_test = transformer.transform(X_test)"
   ]
  },
  {
   "cell_type": "code",
   "execution_count": 17,
   "id": "0e802d9a",
   "metadata": {
    "execution": {
     "iopub.execute_input": "2024-11-24T07:42:20.362098Z",
     "iopub.status.busy": "2024-11-24T07:42:20.361846Z",
     "iopub.status.idle": "2024-11-24T07:44:48.409328Z",
     "shell.execute_reply": "2024-11-24T07:44:48.408531Z"
    },
    "papermill": {
     "duration": 148.059701,
     "end_time": "2024-11-24T07:44:48.416287",
     "exception": false,
     "start_time": "2024-11-24T07:42:20.356586",
     "status": "completed"
    },
    "tags": []
   },
   "outputs": [
    {
     "data": {
      "text/html": [
       "<div>\n",
       "<style scoped>\n",
       "    .dataframe tbody tr th:only-of-type {\n",
       "        vertical-align: middle;\n",
       "    }\n",
       "\n",
       "    .dataframe tbody tr th {\n",
       "        vertical-align: top;\n",
       "    }\n",
       "\n",
       "    .dataframe thead th {\n",
       "        text-align: right;\n",
       "    }\n",
       "</style>\n",
       "<table border=\"1\" class=\"dataframe\">\n",
       "  <thead>\n",
       "    <tr style=\"text-align: right;\">\n",
       "      <th></th>\n",
       "      <th>rank_test_score</th>\n",
       "      <th>params</th>\n",
       "      <th>mean_test_score</th>\n",
       "      <th>std_test_score</th>\n",
       "    </tr>\n",
       "  </thead>\n",
       "  <tbody>\n",
       "    <tr>\n",
       "      <th>6</th>\n",
       "      <td>1</td>\n",
       "      <td>{'max_depth': 50, 'n_estimators': 100}</td>\n",
       "      <td>0.628956</td>\n",
       "      <td>0.015155</td>\n",
       "    </tr>\n",
       "    <tr>\n",
       "      <th>8</th>\n",
       "      <td>2</td>\n",
       "      <td>{'max_depth': 50, 'n_estimators': 500}</td>\n",
       "      <td>0.628283</td>\n",
       "      <td>0.010345</td>\n",
       "    </tr>\n",
       "    <tr>\n",
       "      <th>0</th>\n",
       "      <td>3</td>\n",
       "      <td>{'max_depth': 10, 'n_estimators': 100}</td>\n",
       "      <td>0.627273</td>\n",
       "      <td>0.006867</td>\n",
       "    </tr>\n",
       "    <tr>\n",
       "      <th>1</th>\n",
       "      <td>4</td>\n",
       "      <td>{'max_depth': 10, 'n_estimators': 200}</td>\n",
       "      <td>0.626599</td>\n",
       "      <td>0.005039</td>\n",
       "    </tr>\n",
       "    <tr>\n",
       "      <th>7</th>\n",
       "      <td>5</td>\n",
       "      <td>{'max_depth': 50, 'n_estimators': 200}</td>\n",
       "      <td>0.625926</td>\n",
       "      <td>0.011438</td>\n",
       "    </tr>\n",
       "    <tr>\n",
       "      <th>2</th>\n",
       "      <td>5</td>\n",
       "      <td>{'max_depth': 10, 'n_estimators': 500}</td>\n",
       "      <td>0.625926</td>\n",
       "      <td>0.003434</td>\n",
       "    </tr>\n",
       "    <tr>\n",
       "      <th>3</th>\n",
       "      <td>7</td>\n",
       "      <td>{'max_depth': 20, 'n_estimators': 100}</td>\n",
       "      <td>0.625253</td>\n",
       "      <td>0.005387</td>\n",
       "    </tr>\n",
       "    <tr>\n",
       "      <th>5</th>\n",
       "      <td>8</td>\n",
       "      <td>{'max_depth': 20, 'n_estimators': 500}</td>\n",
       "      <td>0.624242</td>\n",
       "      <td>0.005259</td>\n",
       "    </tr>\n",
       "    <tr>\n",
       "      <th>4</th>\n",
       "      <td>9</td>\n",
       "      <td>{'max_depth': 20, 'n_estimators': 200}</td>\n",
       "      <td>0.620202</td>\n",
       "      <td>0.006784</td>\n",
       "    </tr>\n",
       "  </tbody>\n",
       "</table>\n",
       "</div>"
      ],
      "text/plain": [
       "   rank_test_score                                  params  mean_test_score  \\\n",
       "6                1  {'max_depth': 50, 'n_estimators': 100}         0.628956   \n",
       "8                2  {'max_depth': 50, 'n_estimators': 500}         0.628283   \n",
       "0                3  {'max_depth': 10, 'n_estimators': 100}         0.627273   \n",
       "1                4  {'max_depth': 10, 'n_estimators': 200}         0.626599   \n",
       "7                5  {'max_depth': 50, 'n_estimators': 200}         0.625926   \n",
       "2                5  {'max_depth': 10, 'n_estimators': 500}         0.625926   \n",
       "3                7  {'max_depth': 20, 'n_estimators': 100}         0.625253   \n",
       "5                8  {'max_depth': 20, 'n_estimators': 500}         0.624242   \n",
       "4                9  {'max_depth': 20, 'n_estimators': 200}         0.620202   \n",
       "\n",
       "   std_test_score  \n",
       "6        0.015155  \n",
       "8        0.010345  \n",
       "0        0.006867  \n",
       "1        0.005039  \n",
       "7        0.011438  \n",
       "2        0.003434  \n",
       "3        0.005387  \n",
       "5        0.005259  \n",
       "4        0.006784  "
      ]
     },
     "execution_count": 17,
     "metadata": {},
     "output_type": "execute_result"
    }
   ],
   "source": [
    "#ランダムフォレスト\n",
    "#params = {\"max_depth\": [2, 4, 6], \"n_estimators\": [10, 50]}\n",
    "#params = {\"max_depth\":[4, 6, 8, 10], \"n_estimators\":[50, 100, 200]} #探索したいパラメータのdict\n",
    "params = {\"max_depth\":[10, 20, 50], \"n_estimators\":[100, 200, 500]}\n",
    "rf = RandomForestClassifier(random_state=42) #Random Forestのインスタンス\n",
    "clf = GridSearchCV(estimator=rf, param_grid=params, scoring='accuracy', cv=5) #CVにより最適なパラメータを探索してくれるインスタンス\n",
    "clf.fit(X_train, y_train)\n",
    "pd.DataFrame(clf.cv_results_)[['rank_test_score', 'params', 'mean_test_score', 'std_test_score']].sort_values(by=[\"rank_test_score\"], ascending=True)#CVの結果"
   ]
  },
  {
   "cell_type": "code",
   "execution_count": 18,
   "id": "2eb38c3a",
   "metadata": {
    "execution": {
     "iopub.execute_input": "2024-11-24T07:44:48.426619Z",
     "iopub.status.busy": "2024-11-24T07:44:48.426324Z",
     "iopub.status.idle": "2024-11-24T07:44:48.487745Z",
     "shell.execute_reply": "2024-11-24T07:44:48.486400Z"
    },
    "papermill": {
     "duration": 0.068549,
     "end_time": "2024-11-24T07:44:48.489646",
     "exception": false,
     "start_time": "2024-11-24T07:44:48.421097",
     "status": "completed"
    },
    "tags": []
   },
   "outputs": [
    {
     "name": "stdout",
     "output_type": "stream",
     "text": [
      "              precision    recall  f1-score   support\n",
      "\n",
      "           0       0.66      0.90      0.77       612\n",
      "           1       0.36      0.19      0.25       279\n",
      "           2       0.27      0.03      0.06        90\n",
      "           3       0.00      0.00      0.00         9\n",
      "\n",
      "    accuracy                           0.62       990\n",
      "   macro avg       0.32      0.28      0.27       990\n",
      "weighted avg       0.54      0.62      0.55       990\n",
      "\n",
      "[[553  55   4   0]\n",
      " [223  53   3   0]\n",
      " [ 52  35   3   0]\n",
      " [  5   3   1   0]]\n"
     ]
    },
    {
     "name": "stderr",
     "output_type": "stream",
     "text": [
      "/opt/conda/lib/python3.10/site-packages/sklearn/metrics/_classification.py:1344: UndefinedMetricWarning: Precision and F-score are ill-defined and being set to 0.0 in labels with no predicted samples. Use `zero_division` parameter to control this behavior.\n",
      "  _warn_prf(average, modifier, msg_start, len(result))\n",
      "/opt/conda/lib/python3.10/site-packages/sklearn/metrics/_classification.py:1344: UndefinedMetricWarning: Precision and F-score are ill-defined and being set to 0.0 in labels with no predicted samples. Use `zero_division` parameter to control this behavior.\n",
      "  _warn_prf(average, modifier, msg_start, len(result))\n",
      "/opt/conda/lib/python3.10/site-packages/sklearn/metrics/_classification.py:1344: UndefinedMetricWarning: Precision and F-score are ill-defined and being set to 0.0 in labels with no predicted samples. Use `zero_division` parameter to control this behavior.\n",
      "  _warn_prf(average, modifier, msg_start, len(result))\n"
     ]
    }
   ],
   "source": [
    "y_pred = clf.predict(X_test) #GridSearchCVはそのまま一番良いパラメータのestimatorとして使える\n",
    "print(classification_report(y_test, y_pred)) #各指標を計算\n",
    "print(confusion_matrix(y_test, y_pred)) #コンヒュージョンマトリクスを表示"
   ]
  },
  {
   "cell_type": "code",
   "execution_count": 19,
   "id": "c5e10d4b",
   "metadata": {
    "execution": {
     "iopub.execute_input": "2024-11-24T07:44:48.500603Z",
     "iopub.status.busy": "2024-11-24T07:44:48.499883Z",
     "iopub.status.idle": "2024-11-24T07:44:48.521798Z",
     "shell.execute_reply": "2024-11-24T07:44:48.520901Z"
    },
    "papermill": {
     "duration": 0.028964,
     "end_time": "2024-11-24T07:44:48.523385",
     "exception": false,
     "start_time": "2024-11-24T07:44:48.494421",
     "status": "completed"
    },
    "tags": []
   },
   "outputs": [
    {
     "name": "stderr",
     "output_type": "stream",
     "text": [
      "/opt/conda/lib/python3.10/site-packages/sklearn/base.py:432: UserWarning: X has feature names, but StandardScaler was fitted without feature names\n",
      "  warnings.warn(\n"
     ]
    }
   ],
   "source": [
    "# テストデータに標準化を適用\n",
    "X_test_standardized = transformer.transform(test_data)"
   ]
  },
  {
   "cell_type": "code",
   "execution_count": 20,
   "id": "cea802a9",
   "metadata": {
    "execution": {
     "iopub.execute_input": "2024-11-24T07:44:48.533620Z",
     "iopub.status.busy": "2024-11-24T07:44:48.533331Z",
     "iopub.status.idle": "2024-11-24T07:44:48.543056Z",
     "shell.execute_reply": "2024-11-24T07:44:48.542498Z"
    },
    "papermill": {
     "duration": 0.016787,
     "end_time": "2024-11-24T07:44:48.544769",
     "exception": false,
     "start_time": "2024-11-24T07:44:48.527982",
     "status": "completed"
    },
    "tags": []
   },
   "outputs": [],
   "source": [
    "# 予測結果を取得\n",
    "result = clf.predict(X_test_standardized)"
   ]
  },
  {
   "cell_type": "code",
   "execution_count": 21,
   "id": "20a6011d",
   "metadata": {
    "execution": {
     "iopub.execute_input": "2024-11-24T07:44:48.555320Z",
     "iopub.status.busy": "2024-11-24T07:44:48.554894Z",
     "iopub.status.idle": "2024-11-24T07:44:48.558946Z",
     "shell.execute_reply": "2024-11-24T07:44:48.558144Z"
    },
    "papermill": {
     "duration": 0.011207,
     "end_time": "2024-11-24T07:44:48.560775",
     "exception": false,
     "start_time": "2024-11-24T07:44:48.549568",
     "status": "completed"
    },
    "tags": []
   },
   "outputs": [
    {
     "name": "stdout",
     "output_type": "stream",
     "text": [
      "[2 0 0 0 0 1 0 0 0 1 1 0 1 1 0 2 0 0 0 0]\n"
     ]
    }
   ],
   "source": [
    "print(result)"
   ]
  },
  {
   "cell_type": "code",
   "execution_count": 22,
   "id": "f2b48eec",
   "metadata": {
    "execution": {
     "iopub.execute_input": "2024-11-24T07:44:48.571094Z",
     "iopub.status.busy": "2024-11-24T07:44:48.570877Z",
     "iopub.status.idle": "2024-11-24T07:44:48.575192Z",
     "shell.execute_reply": "2024-11-24T07:44:48.574534Z"
    },
    "papermill": {
     "duration": 0.011309,
     "end_time": "2024-11-24T07:44:48.576739",
     "exception": false,
     "start_time": "2024-11-24T07:44:48.565430",
     "status": "completed"
    },
    "tags": []
   },
   "outputs": [],
   "source": [
    "df = pd.DataFrame(test['id'], columns=['id'])"
   ]
  },
  {
   "cell_type": "code",
   "execution_count": 23,
   "id": "8be759ea",
   "metadata": {
    "execution": {
     "iopub.execute_input": "2024-11-24T07:44:48.586862Z",
     "iopub.status.busy": "2024-11-24T07:44:48.586648Z",
     "iopub.status.idle": "2024-11-24T07:44:48.590129Z",
     "shell.execute_reply": "2024-11-24T07:44:48.589490Z"
    },
    "papermill": {
     "duration": 0.010358,
     "end_time": "2024-11-24T07:44:48.591669",
     "exception": false,
     "start_time": "2024-11-24T07:44:48.581311",
     "status": "completed"
    },
    "tags": []
   },
   "outputs": [],
   "source": [
    "result = pd.DataFrame(result, columns=['sii'])"
   ]
  },
  {
   "cell_type": "code",
   "execution_count": 24,
   "id": "af310843",
   "metadata": {
    "execution": {
     "iopub.execute_input": "2024-11-24T07:44:48.601798Z",
     "iopub.status.busy": "2024-11-24T07:44:48.601284Z",
     "iopub.status.idle": "2024-11-24T07:44:48.605021Z",
     "shell.execute_reply": "2024-11-24T07:44:48.604379Z"
    },
    "papermill": {
     "duration": 0.01031,
     "end_time": "2024-11-24T07:44:48.606483",
     "exception": false,
     "start_time": "2024-11-24T07:44:48.596173",
     "status": "completed"
    },
    "tags": []
   },
   "outputs": [],
   "source": [
    "df_result = pd.concat([df, result], axis=1)"
   ]
  },
  {
   "cell_type": "code",
   "execution_count": 25,
   "id": "6390329d",
   "metadata": {
    "execution": {
     "iopub.execute_input": "2024-11-24T07:44:48.616677Z",
     "iopub.status.busy": "2024-11-24T07:44:48.616193Z",
     "iopub.status.idle": "2024-11-24T07:44:48.623808Z",
     "shell.execute_reply": "2024-11-24T07:44:48.623043Z"
    },
    "papermill": {
     "duration": 0.014323,
     "end_time": "2024-11-24T07:44:48.625308",
     "exception": false,
     "start_time": "2024-11-24T07:44:48.610985",
     "status": "completed"
    },
    "tags": []
   },
   "outputs": [
    {
     "data": {
      "text/html": [
       "<div>\n",
       "<style scoped>\n",
       "    .dataframe tbody tr th:only-of-type {\n",
       "        vertical-align: middle;\n",
       "    }\n",
       "\n",
       "    .dataframe tbody tr th {\n",
       "        vertical-align: top;\n",
       "    }\n",
       "\n",
       "    .dataframe thead th {\n",
       "        text-align: right;\n",
       "    }\n",
       "</style>\n",
       "<table border=\"1\" class=\"dataframe\">\n",
       "  <thead>\n",
       "    <tr style=\"text-align: right;\">\n",
       "      <th></th>\n",
       "      <th>id</th>\n",
       "      <th>sii</th>\n",
       "    </tr>\n",
       "  </thead>\n",
       "  <tbody>\n",
       "    <tr>\n",
       "      <th>0</th>\n",
       "      <td>00008ff9</td>\n",
       "      <td>2</td>\n",
       "    </tr>\n",
       "    <tr>\n",
       "      <th>1</th>\n",
       "      <td>000fd460</td>\n",
       "      <td>0</td>\n",
       "    </tr>\n",
       "    <tr>\n",
       "      <th>2</th>\n",
       "      <td>00105258</td>\n",
       "      <td>0</td>\n",
       "    </tr>\n",
       "    <tr>\n",
       "      <th>3</th>\n",
       "      <td>00115b9f</td>\n",
       "      <td>0</td>\n",
       "    </tr>\n",
       "    <tr>\n",
       "      <th>4</th>\n",
       "      <td>0016bb22</td>\n",
       "      <td>0</td>\n",
       "    </tr>\n",
       "    <tr>\n",
       "      <th>5</th>\n",
       "      <td>001f3379</td>\n",
       "      <td>1</td>\n",
       "    </tr>\n",
       "    <tr>\n",
       "      <th>6</th>\n",
       "      <td>0038ba98</td>\n",
       "      <td>0</td>\n",
       "    </tr>\n",
       "    <tr>\n",
       "      <th>7</th>\n",
       "      <td>0068a485</td>\n",
       "      <td>0</td>\n",
       "    </tr>\n",
       "    <tr>\n",
       "      <th>8</th>\n",
       "      <td>0069fbed</td>\n",
       "      <td>0</td>\n",
       "    </tr>\n",
       "    <tr>\n",
       "      <th>9</th>\n",
       "      <td>0083e397</td>\n",
       "      <td>1</td>\n",
       "    </tr>\n",
       "    <tr>\n",
       "      <th>10</th>\n",
       "      <td>0087dd65</td>\n",
       "      <td>1</td>\n",
       "    </tr>\n",
       "    <tr>\n",
       "      <th>11</th>\n",
       "      <td>00abe655</td>\n",
       "      <td>0</td>\n",
       "    </tr>\n",
       "    <tr>\n",
       "      <th>12</th>\n",
       "      <td>00ae59c9</td>\n",
       "      <td>1</td>\n",
       "    </tr>\n",
       "    <tr>\n",
       "      <th>13</th>\n",
       "      <td>00af6387</td>\n",
       "      <td>1</td>\n",
       "    </tr>\n",
       "    <tr>\n",
       "      <th>14</th>\n",
       "      <td>00bd4359</td>\n",
       "      <td>0</td>\n",
       "    </tr>\n",
       "    <tr>\n",
       "      <th>15</th>\n",
       "      <td>00c0cd71</td>\n",
       "      <td>2</td>\n",
       "    </tr>\n",
       "    <tr>\n",
       "      <th>16</th>\n",
       "      <td>00d56d4b</td>\n",
       "      <td>0</td>\n",
       "    </tr>\n",
       "    <tr>\n",
       "      <th>17</th>\n",
       "      <td>00d9913d</td>\n",
       "      <td>0</td>\n",
       "    </tr>\n",
       "    <tr>\n",
       "      <th>18</th>\n",
       "      <td>00e6167c</td>\n",
       "      <td>0</td>\n",
       "    </tr>\n",
       "    <tr>\n",
       "      <th>19</th>\n",
       "      <td>00ebc35d</td>\n",
       "      <td>0</td>\n",
       "    </tr>\n",
       "  </tbody>\n",
       "</table>\n",
       "</div>"
      ],
      "text/plain": [
       "          id  sii\n",
       "0   00008ff9    2\n",
       "1   000fd460    0\n",
       "2   00105258    0\n",
       "3   00115b9f    0\n",
       "4   0016bb22    0\n",
       "5   001f3379    1\n",
       "6   0038ba98    0\n",
       "7   0068a485    0\n",
       "8   0069fbed    0\n",
       "9   0083e397    1\n",
       "10  0087dd65    1\n",
       "11  00abe655    0\n",
       "12  00ae59c9    1\n",
       "13  00af6387    1\n",
       "14  00bd4359    0\n",
       "15  00c0cd71    2\n",
       "16  00d56d4b    0\n",
       "17  00d9913d    0\n",
       "18  00e6167c    0\n",
       "19  00ebc35d    0"
      ]
     },
     "execution_count": 25,
     "metadata": {},
     "output_type": "execute_result"
    }
   ],
   "source": [
    "df_result.head(50)"
   ]
  },
  {
   "cell_type": "code",
   "execution_count": 26,
   "id": "43e6be34",
   "metadata": {
    "execution": {
     "iopub.execute_input": "2024-11-24T07:44:48.635785Z",
     "iopub.status.busy": "2024-11-24T07:44:48.635554Z",
     "iopub.status.idle": "2024-11-24T07:44:48.641656Z",
     "shell.execute_reply": "2024-11-24T07:44:48.641095Z"
    },
    "papermill": {
     "duration": 0.013174,
     "end_time": "2024-11-24T07:44:48.643219",
     "exception": false,
     "start_time": "2024-11-24T07:44:48.630045",
     "status": "completed"
    },
    "tags": []
   },
   "outputs": [],
   "source": [
    "df_result.to_csv(\"submission.csv\", index=None)"
   ]
  },
  {
   "cell_type": "code",
   "execution_count": null,
   "id": "12751684",
   "metadata": {
    "papermill": {
     "duration": 0.00483,
     "end_time": "2024-11-24T07:44:48.652958",
     "exception": false,
     "start_time": "2024-11-24T07:44:48.648128",
     "status": "completed"
    },
    "tags": []
   },
   "outputs": [],
   "source": []
  }
 ],
 "metadata": {
  "kaggle": {
   "accelerator": "nvidiaTeslaT4",
   "dataSources": [
    {
     "databundleVersionId": 9643020,
     "sourceId": 81933,
     "sourceType": "competition"
    }
   ],
   "dockerImageVersionId": 30787,
   "isGpuEnabled": true,
   "isInternetEnabled": false,
   "language": "python",
   "sourceType": "notebook"
  },
  "kernelspec": {
   "display_name": "Python 3",
   "language": "python",
   "name": "python3"
  },
  "language_info": {
   "codemirror_mode": {
    "name": "ipython",
    "version": 3
   },
   "file_extension": ".py",
   "mimetype": "text/x-python",
   "name": "python",
   "nbconvert_exporter": "python",
   "pygments_lexer": "ipython3",
   "version": "3.10.14"
  },
  "papermill": {
   "default_parameters": {},
   "duration": 168.660295,
   "end_time": "2024-11-24T07:44:49.175654",
   "environment_variables": {},
   "exception": null,
   "input_path": "__notebook__.ipynb",
   "output_path": "__notebook__.ipynb",
   "parameters": {},
   "start_time": "2024-11-24T07:42:00.515359",
   "version": "2.6.0"
  }
 },
 "nbformat": 4,
 "nbformat_minor": 5
}
