{
 "cells": [
  {
   "cell_type": "code",
   "execution_count": 1,
   "id": "19ad14a8",
   "metadata": {
    "execution": {
     "iopub.execute_input": "2024-12-09T09:53:24.624204Z",
     "iopub.status.busy": "2024-12-09T09:53:24.623825Z",
     "iopub.status.idle": "2024-12-09T09:57:18.710381Z",
     "shell.execute_reply": "2024-12-09T09:57:18.709088Z"
    },
    "papermill": {
     "duration": 234.096378,
     "end_time": "2024-12-09T09:57:18.713411",
     "exception": false,
     "start_time": "2024-12-09T09:53:24.617033",
     "status": "completed"
    },
    "tags": []
   },
   "outputs": [
    {
     "name": "stdout",
     "output_type": "stream",
     "text": [
      "\u001b[33mWARNING: Retrying (Retry(total=4, connect=None, read=None, redirect=None, status=None)) after connection broken by 'NewConnectionError('<pip._vendor.urllib3.connection.HTTPSConnection object at 0x7dcb21bc9990>: Failed to establish a new connection: [Errno -3] Temporary failure in name resolution')': /simple/pycaret/\u001b[0m\u001b[33m\r\n",
      "\u001b[0m\u001b[33mWARNING: Retrying (Retry(total=3, connect=None, read=None, redirect=None, status=None)) after connection broken by 'NewConnectionError('<pip._vendor.urllib3.connection.HTTPSConnection object at 0x7dcb21bc9c90>: Failed to establish a new connection: [Errno -3] Temporary failure in name resolution')': /simple/pycaret/\u001b[0m\u001b[33m\r\n",
      "\u001b[0m\u001b[33mWARNING: Retrying (Retry(total=2, connect=None, read=None, redirect=None, status=None)) after connection broken by 'NewConnectionError('<pip._vendor.urllib3.connection.HTTPSConnection object at 0x7dcb21bc9f30>: Failed to establish a new connection: [Errno -3] Temporary failure in name resolution')': /simple/pycaret/\u001b[0m\u001b[33m\r\n",
      "\u001b[0m\u001b[33mWARNING: Retrying (Retry(total=1, connect=None, read=None, redirect=None, status=None)) after connection broken by 'NewConnectionError('<pip._vendor.urllib3.connection.HTTPSConnection object at 0x7dcb21bca0e0>: Failed to establish a new connection: [Errno -3] Temporary failure in name resolution')': /simple/pycaret/\u001b[0m\u001b[33m\r\n",
      "\u001b[0m\u001b[33mWARNING: Retrying (Retry(total=0, connect=None, read=None, redirect=None, status=None)) after connection broken by 'NewConnectionError('<pip._vendor.urllib3.connection.HTTPSConnection object at 0x7dcb21bca290>: Failed to establish a new connection: [Errno -3] Temporary failure in name resolution')': /simple/pycaret/\u001b[0m\u001b[33m\r\n",
      "\u001b[0m\u001b[31mERROR: Could not find a version that satisfies the requirement pycaret (from versions: none)\u001b[0m\u001b[31m\r\n",
      "\u001b[0m\u001b[31mERROR: No matching distribution found for pycaret\u001b[0m\u001b[31m\r\n",
      "\u001b[0m"
     ]
    }
   ],
   "source": [
    "#競合を無視してPyCaretをインストール\n",
    "!pip install pycaret --force-reinstall"
   ]
  },
  {
   "cell_type": "code",
   "execution_count": 2,
   "id": "dd7237ac",
   "metadata": {
    "execution": {
     "iopub.execute_input": "2024-12-09T09:57:18.726227Z",
     "iopub.status.busy": "2024-12-09T09:57:18.725868Z",
     "iopub.status.idle": "2024-12-09T09:57:19.544531Z",
     "shell.execute_reply": "2024-12-09T09:57:19.543659Z"
    },
    "papermill": {
     "duration": 0.827973,
     "end_time": "2024-12-09T09:57:19.546846",
     "exception": false,
     "start_time": "2024-12-09T09:57:18.718873",
     "status": "completed"
    },
    "tags": []
   },
   "outputs": [],
   "source": [
    "import numpy as np\n",
    "import pandas as pd"
   ]
  },
  {
   "cell_type": "code",
   "execution_count": 3,
   "id": "fccf87b8",
   "metadata": {
    "execution": {
     "iopub.execute_input": "2024-12-09T09:57:19.558599Z",
     "iopub.status.busy": "2024-12-09T09:57:19.558094Z",
     "iopub.status.idle": "2024-12-09T09:57:19.623926Z",
     "shell.execute_reply": "2024-12-09T09:57:19.622922Z"
    },
    "papermill": {
     "duration": 0.074261,
     "end_time": "2024-12-09T09:57:19.626425",
     "exception": false,
     "start_time": "2024-12-09T09:57:19.552164",
     "status": "completed"
    },
    "tags": []
   },
   "outputs": [],
   "source": [
    "train = pd.read_csv('/kaggle/input/child-mind-institute-problematic-internet-use/train.csv')"
   ]
  },
  {
   "cell_type": "code",
   "execution_count": 4,
   "id": "67a4db29",
   "metadata": {
    "execution": {
     "iopub.execute_input": "2024-12-09T09:57:19.638343Z",
     "iopub.status.busy": "2024-12-09T09:57:19.637991Z",
     "iopub.status.idle": "2024-12-09T09:57:19.671342Z",
     "shell.execute_reply": "2024-12-09T09:57:19.670561Z"
    },
    "papermill": {
     "duration": 0.041751,
     "end_time": "2024-12-09T09:57:19.673596",
     "exception": false,
     "start_time": "2024-12-09T09:57:19.631845",
     "status": "completed"
    },
    "tags": []
   },
   "outputs": [],
   "source": [
    "# object型の列名を取得するリストを作成\n",
    "object_columns = []\n",
    "\n",
    "# for文を使ってobject型の列を取得\n",
    "for col in train.columns:\n",
    "    if train[col].dtype == 'object':\n",
    "        object_columns.append(col)\n",
    "\n",
    "#取得した列にダミー変数を入れる\n",
    "del object_columns[0]#先頭の'id'列を削除\n",
    "cat_col = object_columns\n",
    "X=pd.get_dummies(train,columns=cat_col)"
   ]
  },
  {
   "cell_type": "code",
   "execution_count": 5,
   "id": "4db79a23",
   "metadata": {
    "execution": {
     "iopub.execute_input": "2024-12-09T09:57:19.685555Z",
     "iopub.status.busy": "2024-12-09T09:57:19.684721Z",
     "iopub.status.idle": "2024-12-09T09:57:19.691082Z",
     "shell.execute_reply": "2024-12-09T09:57:19.690112Z"
    },
    "papermill": {
     "duration": 0.014276,
     "end_time": "2024-12-09T09:57:19.693031",
     "exception": false,
     "start_time": "2024-12-09T09:57:19.678755",
     "status": "completed"
    },
    "tags": []
   },
   "outputs": [],
   "source": [
    "X = X.drop(['id'],axis=1)"
   ]
  },
  {
   "cell_type": "code",
   "execution_count": 6,
   "id": "16e219b5",
   "metadata": {
    "execution": {
     "iopub.execute_input": "2024-12-09T09:57:19.703868Z",
     "iopub.status.busy": "2024-12-09T09:57:19.703561Z",
     "iopub.status.idle": "2024-12-09T09:57:30.183347Z",
     "shell.execute_reply": "2024-12-09T09:57:30.182227Z"
    },
    "papermill": {
     "duration": 10.487979,
     "end_time": "2024-12-09T09:57:30.185815",
     "exception": false,
     "start_time": "2024-12-09T09:57:19.697836",
     "status": "completed"
    },
    "tags": []
   },
   "outputs": [],
   "source": [
    "#K近傍法を実施\n",
    "from sklearn.impute import KNNImputer\n",
    "imputer = KNNImputer(n_neighbors=5)\n",
    "imputed_data = imputer.fit_transform(X)"
   ]
  },
  {
   "cell_type": "code",
   "execution_count": 7,
   "id": "f033065a",
   "metadata": {
    "execution": {
     "iopub.execute_input": "2024-12-09T09:57:30.198305Z",
     "iopub.status.busy": "2024-12-09T09:57:30.197153Z",
     "iopub.status.idle": "2024-12-09T09:57:30.202688Z",
     "shell.execute_reply": "2024-12-09T09:57:30.201684Z"
    },
    "papermill": {
     "duration": 0.013801,
     "end_time": "2024-12-09T09:57:30.204841",
     "exception": false,
     "start_time": "2024-12-09T09:57:30.191040",
     "status": "completed"
    },
    "tags": []
   },
   "outputs": [],
   "source": [
    "columns = X.columns\n",
    "index = X.index\n",
    "\n",
    "imputed_df = pd.DataFrame(imputed_data, columns=columns, index=index)"
   ]
  },
  {
   "cell_type": "code",
   "execution_count": 8,
   "id": "96f6093c",
   "metadata": {
    "execution": {
     "iopub.execute_input": "2024-12-09T09:57:30.216977Z",
     "iopub.status.busy": "2024-12-09T09:57:30.216249Z",
     "iopub.status.idle": "2024-12-09T09:57:30.234389Z",
     "shell.execute_reply": "2024-12-09T09:57:30.233266Z"
    },
    "papermill": {
     "duration": 0.026974,
     "end_time": "2024-12-09T09:57:30.237033",
     "exception": false,
     "start_time": "2024-12-09T09:57:30.210059",
     "status": "completed"
    },
    "tags": []
   },
   "outputs": [],
   "source": [
    "test = pd.read_csv('/kaggle/input/child-mind-institute-problematic-internet-use/test.csv')"
   ]
  },
  {
   "cell_type": "code",
   "execution_count": 9,
   "id": "01825a8c",
   "metadata": {
    "execution": {
     "iopub.execute_input": "2024-12-09T09:57:30.249569Z",
     "iopub.status.busy": "2024-12-09T09:57:30.248696Z",
     "iopub.status.idle": "2024-12-09T09:57:30.310394Z",
     "shell.execute_reply": "2024-12-09T09:57:30.309218Z"
    },
    "papermill": {
     "duration": 0.070604,
     "end_time": "2024-12-09T09:57:30.313025",
     "exception": false,
     "start_time": "2024-12-09T09:57:30.242421",
     "status": "completed"
    },
    "tags": []
   },
   "outputs": [],
   "source": [
    "# 共通の列を抽出\n",
    "common_columns = train.columns.intersection(test.columns)\n",
    "\n",
    "# 訓練データとテストデータの共通列だけを抽出\n",
    "train_common = train[common_columns]\n",
    "test_common = test[common_columns]\n",
    "\n",
    "\n",
    "\n",
    "# 訓練データ（およびテストデータ）のobject型の列名を取得するリストを作成\n",
    "object_columns = []\n",
    "\n",
    "# for文を使ってobject型の列を取得\n",
    "for col in train_common.columns:\n",
    "    if train_common[col].dtype == 'object':\n",
    "        object_columns.append(col)\n",
    "\n",
    "\n",
    "\n",
    "#訓練データとテストデータを合わせてダミー変数を入れる\n",
    "data_combined = pd.concat([train_common, test_common], axis=0)\n",
    "if object_columns:  # 空でない場合のみダミー変数化\n",
    "    data_combined = pd.get_dummies(data_combined, columns=object_columns)\n",
    "train_data = data_combined.iloc[:len(train_common), :]\n",
    "test_data = data_combined.iloc[len(train_common):, :]"
   ]
  },
  {
   "cell_type": "code",
   "execution_count": 10,
   "id": "4d763351",
   "metadata": {
    "execution": {
     "iopub.execute_input": "2024-12-09T09:57:30.324849Z",
     "iopub.status.busy": "2024-12-09T09:57:30.324214Z",
     "iopub.status.idle": "2024-12-09T09:57:30.330504Z",
     "shell.execute_reply": "2024-12-09T09:57:30.329553Z"
    },
    "papermill": {
     "duration": 0.015165,
     "end_time": "2024-12-09T09:57:30.333311",
     "exception": false,
     "start_time": "2024-12-09T09:57:30.318146",
     "status": "completed"
    },
    "tags": []
   },
   "outputs": [
    {
     "name": "stderr",
     "output_type": "stream",
     "text": [
      "/tmp/ipykernel_17/1926479172.py:2: SettingWithCopyWarning: \n",
      "A value is trying to be set on a copy of a slice from a DataFrame.\n",
      "Try using .loc[row_indexer,col_indexer] = value instead\n",
      "\n",
      "See the caveats in the documentation: https://pandas.pydata.org/pandas-docs/stable/user_guide/indexing.html#returning-a-view-versus-a-copy\n",
      "  train_data['sii'] = imputed_df['sii']\n"
     ]
    }
   ],
   "source": [
    "# 訓練データにsii列を追加\n",
    "train_data['sii'] = imputed_df['sii']"
   ]
  },
  {
   "cell_type": "code",
   "execution_count": 11,
   "id": "9f941bce",
   "metadata": {
    "execution": {
     "iopub.execute_input": "2024-12-09T09:57:30.344534Z",
     "iopub.status.busy": "2024-12-09T09:57:30.344166Z",
     "iopub.status.idle": "2024-12-09T09:57:30.349613Z",
     "shell.execute_reply": "2024-12-09T09:57:30.348701Z"
    },
    "papermill": {
     "duration": 0.013975,
     "end_time": "2024-12-09T09:57:30.352149",
     "exception": false,
     "start_time": "2024-12-09T09:57:30.338174",
     "status": "completed"
    },
    "tags": []
   },
   "outputs": [
    {
     "name": "stderr",
     "output_type": "stream",
     "text": [
      "/tmp/ipykernel_17/3493830447.py:1: SettingWithCopyWarning: \n",
      "A value is trying to be set on a copy of a slice from a DataFrame.\n",
      "Try using .loc[row_indexer,col_indexer] = value instead\n",
      "\n",
      "See the caveats in the documentation: https://pandas.pydata.org/pandas-docs/stable/user_guide/indexing.html#returning-a-view-versus-a-copy\n",
      "  train_data['sii'] = train_data['sii'].astype(int)\n"
     ]
    }
   ],
   "source": [
    "train_data['sii'] = train_data['sii'].astype(int)"
   ]
  },
  {
   "cell_type": "code",
   "execution_count": 12,
   "id": "fe08c7e3",
   "metadata": {
    "execution": {
     "iopub.execute_input": "2024-12-09T09:57:30.363727Z",
     "iopub.status.busy": "2024-12-09T09:57:30.362863Z",
     "iopub.status.idle": "2024-12-09T09:57:30.368324Z",
     "shell.execute_reply": "2024-12-09T09:57:30.367420Z"
    },
    "papermill": {
     "duration": 0.013153,
     "end_time": "2024-12-09T09:57:30.370218",
     "exception": false,
     "start_time": "2024-12-09T09:57:30.357065",
     "status": "completed"
    },
    "tags": []
   },
   "outputs": [],
   "source": [
    "X = train_data\n",
    "columns = X.columns\n",
    "index = X.index\n",
    "\n",
    "X = pd.DataFrame(X, columns=columns, index=index)"
   ]
  },
  {
   "cell_type": "code",
   "execution_count": 13,
   "id": "78024228",
   "metadata": {
    "execution": {
     "iopub.execute_input": "2024-12-09T09:57:30.381766Z",
     "iopub.status.busy": "2024-12-09T09:57:30.380971Z",
     "iopub.status.idle": "2024-12-09T09:57:30.701876Z",
     "shell.execute_reply": "2024-12-09T09:57:30.700460Z"
    },
    "papermill": {
     "duration": 0.328531,
     "end_time": "2024-12-09T09:57:30.703671",
     "exception": true,
     "start_time": "2024-12-09T09:57:30.375140",
     "status": "failed"
    },
    "tags": []
   },
   "outputs": [
    {
     "ename": "ModuleNotFoundError",
     "evalue": "No module named 'pycaret'",
     "output_type": "error",
     "traceback": [
      "\u001b[0;31m---------------------------------------------------------------------------\u001b[0m",
      "\u001b[0;31mModuleNotFoundError\u001b[0m                       Traceback (most recent call last)",
      "Cell \u001b[0;32mIn[13], line 2\u001b[0m\n\u001b[1;32m      1\u001b[0m \u001b[38;5;66;03m# PyCaretのセットアップ\u001b[39;00m\n\u001b[0;32m----> 2\u001b[0m \u001b[38;5;28;01mfrom\u001b[39;00m \u001b[38;5;21;01mpycaret\u001b[39;00m\u001b[38;5;21;01m.\u001b[39;00m\u001b[38;5;21;01mclassification\u001b[39;00m \u001b[38;5;28;01mimport\u001b[39;00m setup\n\u001b[1;32m      3\u001b[0m clf \u001b[38;5;241m=\u001b[39m setup(data\u001b[38;5;241m=\u001b[39mX, target\u001b[38;5;241m=\u001b[39m\u001b[38;5;124m'\u001b[39m\u001b[38;5;124msii\u001b[39m\u001b[38;5;124m'\u001b[39m, session_id\u001b[38;5;241m=\u001b[39m\u001b[38;5;241m42\u001b[39m, fold\u001b[38;5;241m=\u001b[39m\u001b[38;5;241m5\u001b[39m)  \u001b[38;5;66;03m# foldでK分割数を指定\u001b[39;00m\n",
      "\u001b[0;31mModuleNotFoundError\u001b[0m: No module named 'pycaret'"
     ]
    }
   ],
   "source": [
    "# PyCaretのセットアップ\n",
    "from pycaret.classification import setup\n",
    "clf = setup(data=X, target='sii', session_id=42, fold=5)  # foldでK分割数を指定"
   ]
  },
  {
   "cell_type": "code",
   "execution_count": null,
   "id": "aa6a5ad4",
   "metadata": {
    "execution": {
     "iopub.execute_input": "2024-12-09T09:00:38.175432Z",
     "iopub.status.busy": "2024-12-09T09:00:38.175005Z",
     "iopub.status.idle": "2024-12-09T09:13:40.029460Z",
     "shell.execute_reply": "2024-12-09T09:13:40.028225Z",
     "shell.execute_reply.started": "2024-12-09T09:00:38.175397Z"
    },
    "papermill": {
     "duration": null,
     "end_time": null,
     "exception": null,
     "start_time": null,
     "status": "pending"
    },
    "tags": []
   },
   "outputs": [],
   "source": [
    "# モデルの比較\n",
    "from pycaret.classification import compare_models\n",
    "best_model = compare_models()"
   ]
  },
  {
   "cell_type": "code",
   "execution_count": null,
   "id": "48d7b4f2",
   "metadata": {
    "execution": {
     "iopub.execute_input": "2024-12-09T09:14:17.017277Z",
     "iopub.status.busy": "2024-12-09T09:14:17.016817Z",
     "iopub.status.idle": "2024-12-09T09:30:18.935136Z",
     "shell.execute_reply": "2024-12-09T09:30:18.934083Z",
     "shell.execute_reply.started": "2024-12-09T09:14:17.017240Z"
    },
    "papermill": {
     "duration": null,
     "end_time": null,
     "exception": null,
     "start_time": null,
     "status": "pending"
    },
    "tags": []
   },
   "outputs": [],
   "source": [
    "# 比較を実施し、上位3つのモデルを取得\n",
    "models = compare_models(n_select=5)\n",
    "\n",
    "# モデルのリストを確認\n",
    "print(models)"
   ]
  },
  {
   "cell_type": "code",
   "execution_count": null,
   "id": "0e55f5a1",
   "metadata": {
    "execution": {
     "iopub.execute_input": "2024-12-09T09:33:45.111667Z",
     "iopub.status.busy": "2024-12-09T09:33:45.111208Z",
     "iopub.status.idle": "2024-12-09T09:33:45.117381Z",
     "shell.execute_reply": "2024-12-09T09:33:45.115986Z",
     "shell.execute_reply.started": "2024-12-09T09:33:45.111628Z"
    },
    "papermill": {
     "duration": null,
     "end_time": null,
     "exception": null,
     "start_time": null,
     "status": "pending"
    },
    "tags": []
   },
   "outputs": [],
   "source": [
    "second_best_model = models[1]"
   ]
  },
  {
   "cell_type": "code",
   "execution_count": null,
   "id": "8fd137a9",
   "metadata": {
    "execution": {
     "iopub.execute_input": "2024-12-09T09:36:02.278839Z",
     "iopub.status.busy": "2024-12-09T09:36:02.277132Z",
     "iopub.status.idle": "2024-12-09T09:43:02.825883Z",
     "shell.execute_reply": "2024-12-09T09:43:02.824526Z",
     "shell.execute_reply.started": "2024-12-09T09:36:02.278773Z"
    },
    "papermill": {
     "duration": null,
     "end_time": null,
     "exception": null,
     "start_time": null,
     "status": "pending"
    },
    "tags": []
   },
   "outputs": [],
   "source": [
    "# 2位のモデルをチューニング\n",
    "from pycaret.classification import tune_model\n",
    "tuned_second_best_model = tune_model(second_best_model)\n",
    "\n",
    "# チューニング後のモデルを確認\n",
    "print(tuned_second_best_model)"
   ]
  },
  {
   "cell_type": "code",
   "execution_count": null,
   "id": "2a99cfab",
   "metadata": {
    "execution": {
     "iopub.execute_input": "2024-12-09T09:47:14.606134Z",
     "iopub.status.busy": "2024-12-09T09:47:14.604686Z",
     "iopub.status.idle": "2024-12-09T09:47:20.483022Z",
     "shell.execute_reply": "2024-12-09T09:47:20.482034Z",
     "shell.execute_reply.started": "2024-12-09T09:47:14.606088Z"
    },
    "papermill": {
     "duration": null,
     "end_time": null,
     "exception": null,
     "start_time": null,
     "status": "pending"
    },
    "tags": []
   },
   "outputs": [],
   "source": [
    "# モデルを評価\n",
    "from pycaret.classification import evaluate_model\n",
    "evaluate_model(tuned_second_best_model)\n",
    "\n",
    "# 新しいデータに対する予測\n",
    "from pycaret.classification import predict_model\n",
    "predictions = predict_model(tuned_second_best_model, data=test_data)"
   ]
  },
  {
   "cell_type": "code",
   "execution_count": null,
   "id": "1c9ee028",
   "metadata": {
    "execution": {
     "iopub.execute_input": "2024-12-09T09:47:43.362762Z",
     "iopub.status.busy": "2024-12-09T09:47:43.362328Z",
     "iopub.status.idle": "2024-12-09T09:47:43.398914Z",
     "shell.execute_reply": "2024-12-09T09:47:43.397785Z",
     "shell.execute_reply.started": "2024-12-09T09:47:43.362704Z"
    },
    "papermill": {
     "duration": null,
     "end_time": null,
     "exception": null,
     "start_time": null,
     "status": "pending"
    },
    "tags": []
   },
   "outputs": [],
   "source": [
    "predictions.head(50)"
   ]
  },
  {
   "cell_type": "code",
   "execution_count": null,
   "id": "a442208b",
   "metadata": {
    "execution": {
     "iopub.execute_input": "2024-12-09T09:51:19.045246Z",
     "iopub.status.busy": "2024-12-09T09:51:19.044787Z",
     "iopub.status.idle": "2024-12-09T09:51:19.052197Z",
     "shell.execute_reply": "2024-12-09T09:51:19.050949Z",
     "shell.execute_reply.started": "2024-12-09T09:51:19.045207Z"
    },
    "papermill": {
     "duration": null,
     "end_time": null,
     "exception": null,
     "start_time": null,
     "status": "pending"
    },
    "tags": []
   },
   "outputs": [],
   "source": [
    "submission = pd.DataFrame({\n",
    "    'id': test['id'],\n",
    "    'sii': predictions['prediction_label']  # PyCaretは予測結果を\"Label\"列に格納\n",
    "})"
   ]
  },
  {
   "cell_type": "code",
   "execution_count": null,
   "id": "b3516be9",
   "metadata": {
    "execution": {
     "iopub.execute_input": "2024-12-09T09:51:45.586609Z",
     "iopub.status.busy": "2024-12-09T09:51:45.586188Z",
     "iopub.status.idle": "2024-12-09T09:51:45.597245Z",
     "shell.execute_reply": "2024-12-09T09:51:45.596128Z",
     "shell.execute_reply.started": "2024-12-09T09:51:45.586572Z"
    },
    "papermill": {
     "duration": null,
     "end_time": null,
     "exception": null,
     "start_time": null,
     "status": "pending"
    },
    "tags": []
   },
   "outputs": [],
   "source": [
    "submission.head(50)"
   ]
  },
  {
   "cell_type": "code",
   "execution_count": null,
   "id": "08caddf4",
   "metadata": {
    "execution": {
     "iopub.execute_input": "2024-12-09T09:52:44.724446Z",
     "iopub.status.busy": "2024-12-09T09:52:44.723972Z",
     "iopub.status.idle": "2024-12-09T09:52:44.733860Z",
     "shell.execute_reply": "2024-12-09T09:52:44.732551Z",
     "shell.execute_reply.started": "2024-12-09T09:52:44.724411Z"
    },
    "papermill": {
     "duration": null,
     "end_time": null,
     "exception": null,
     "start_time": null,
     "status": "pending"
    },
    "tags": []
   },
   "outputs": [],
   "source": [
    "submission.to_csv(\"submission.csv\", index=None)"
   ]
  },
  {
   "cell_type": "code",
   "execution_count": null,
   "id": "27f21f96",
   "metadata": {
    "papermill": {
     "duration": null,
     "end_time": null,
     "exception": null,
     "start_time": null,
     "status": "pending"
    },
    "tags": []
   },
   "outputs": [],
   "source": []
  }
 ],
 "metadata": {
  "kaggle": {
   "accelerator": "none",
   "dataSources": [
    {
     "databundleVersionId": 9643020,
     "sourceId": 81933,
     "sourceType": "competition"
    }
   ],
   "dockerImageVersionId": 30804,
   "isGpuEnabled": false,
   "isInternetEnabled": false,
   "language": "python",
   "sourceType": "notebook"
  },
  "kernelspec": {
   "display_name": "Python 3",
   "language": "python",
   "name": "python3"
  },
  "language_info": {
   "codemirror_mode": {
    "name": "ipython",
    "version": 3
   },
   "file_extension": ".py",
   "mimetype": "text/x-python",
   "name": "python",
   "nbconvert_exporter": "python",
   "pygments_lexer": "ipython3",
   "version": "3.10.14"
  },
  "papermill": {
   "default_parameters": {},
   "duration": 249.372214,
   "end_time": "2024-12-09T09:57:31.328907",
   "environment_variables": {},
   "exception": true,
   "input_path": "__notebook__.ipynb",
   "output_path": "__notebook__.ipynb",
   "parameters": {},
   "start_time": "2024-12-09T09:53:21.956693",
   "version": "2.6.0"
  }
 },
 "nbformat": 4,
 "nbformat_minor": 5
}
